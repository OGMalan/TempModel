{
  "nbformat": 4,
  "nbformat_minor": 0,
  "metadata": {
    "colab": {
      "name": "S3_Extract.ipynb",
      "version": "0.3.2",
      "provenance": [],
      "collapsed_sections": [],
      "include_colab_link": true
    },
    "kernelspec": {
      "name": "python3",
      "display_name": "Python 3"
    }
  },
  "cells": [
    {
      "cell_type": "markdown",
      "metadata": {
        "id": "view-in-github",
        "colab_type": "text"
      },
      "source": [
        "<a href=\"https://colab.research.google.com/github/OGMalan/TempModel/blob/master/S3_Extract.ipynb\" target=\"_parent\"><img src=\"https://colab.research.google.com/assets/colab-badge.svg\" alt=\"Open In Colab\"/></a>"
      ]
    },
    {
      "cell_type": "code",
      "metadata": {
        "id": "2M3J0uTHEDbo",
        "colab_type": "code",
        "colab": {}
      },
      "source": [
        "#Installs required packages:\n",
        "!pip install sentinelsat\n",
        "!pip install satpy\n",
        "!pip install matplotlib\n",
        "!pip install Pillow\n",
        "!pip install pyorbital\n",
        "!pip install sunpy glymur"
      ],
      "execution_count": 0,
      "outputs": []
    },
    {
      "cell_type": "code",
      "metadata": {
        "id": "X2OikQjVG_ZV",
        "colab_type": "code",
        "colab": {},
        "cellView": "form"
      },
      "source": [
        "#Configures paramaters:\n",
        "user = '' #@param {type:\"string\"}\n",
        "password = '' #@param {type:\"string\"}\n",
        "startdate = \"2019-09-16\" #@param {type:\"date\"}\n",
        "enddate = \"2019-09-16\" #@param {type:\"date\"}\n"
      ],
      "execution_count": 0,
      "outputs": []
    },
    {
      "cell_type": "code",
      "metadata": {
        "id": "i7ooC2zCYYvA",
        "colab_type": "code",
        "colab": {},
        "cellView": "code"
      },
      "source": [
        "#Copernicus API Query:\n",
        "#@title Function Parameters:\n",
        "from sentinelsat.sentinel import SentinelAPI, read_geojson, geojson_to_wkt\n",
        "from datetime import date\n",
        "\n",
        "# connect to the API\n",
        "api = SentinelAPI(user, password, 'https://scihub.copernicus.eu/dhus')\n",
        "\n",
        "# search by polygon, time, and Hub query keywords\n",
        "footprint = geojson_to_wkt(read_geojson('map.geojson'))\n",
        "products = api.query(footprint,\n",
        "                     date = (startdate,enddate)\n",
        "                     platformname = 'Sentinel-3',\n",
        "                     cloudcoverpercentage = (0, 30))"
      ],
      "execution_count": 0,
      "outputs": []
    }
  ]
}