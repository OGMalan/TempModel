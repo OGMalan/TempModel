{
  "nbformat": 4,
  "nbformat_minor": 0,
  "metadata": {
    "colab": {
      "name": "S3_Extract.ipynb",
      "version": "0.3.2",
      "provenance": [],
      "collapsed_sections": [],
      "toc_visible": true,
      "include_colab_link": true
    },
    "kernelspec": {
      "name": "python3",
      "display_name": "Python 3"
    },
    "accelerator": "GPU"
  },
  "cells": [
    {
      "cell_type": "markdown",
      "metadata": {
        "id": "view-in-github",
        "colab_type": "text"
      },
      "source": [
        "<a href=\"https://colab.research.google.com/github/OGMalan/TempModel/blob/master/S3_Extract.ipynb\" target=\"_parent\"><img src=\"https://colab.research.google.com/assets/colab-badge.svg\" alt=\"Open In Colab\"/></a>"
      ]
    },
    {
      "cell_type": "markdown",
      "metadata": {
        "id": "0huZZwPyY688",
        "colab_type": "text"
      },
      "source": [
        "# Overview\n",
        "This script is meant to extract all available Sentinel-3 data for an input set of geo-located points and export it as a CSV document. The purpose of this script is to easily format Sentinel-3 data for input into machine-learning models.\n",
        "\n",
        "# Input requirements:\n",
        "The script requires the following inputs:\n",
        "\n",
        "*   A geoJSON point dataset in WGS84 Web Mercator projection.\n",
        "\n",
        "*   A csv file in which to output the data.\n",
        "\n",
        "# Workflow:\n",
        "The script works as follow:\n",
        "1.   Configuration of required packages and paramaters\n",
        "2.   Copernicus API query to obtain a list of tiles.\n",
        "3.   Removal of tiles whose values have succesfully been extracted and start of an iteration process through the remaining tiles involving the following:\n",
        "4.   Downloading the tile.\n",
        "5.   Extraction of all band information for each input points.\n",
        "6.   Output of extracted information as csv string.\n",
        "7.   Deletion of downloaded image.\n",
        "\n",
        "This workflow is meant to be automated and resumeable to ensure it can process high volumes of data.\n",
        "\n",
        "\n",
        "\n",
        "\n",
        "\n",
        "\n",
        "\n",
        "\n",
        "\n",
        "\n",
        "\n",
        "\n",
        "\n",
        "\n"
      ]
    },
    {
      "cell_type": "markdown",
      "metadata": {
        "id": "74slJJgMaebu",
        "colab_type": "text"
      },
      "source": [
        "# 1a - Configuration of packages"
      ]
    },
    {
      "cell_type": "code",
      "metadata": {
        "id": "2M3J0uTHEDbo",
        "colab_type": "code",
        "colab": {}
      },
      "source": [
        "#Installs required packages:\n",
        "!pip install sentinelsat\n",
        "!pip install satpy\n",
        "!pip install matplotlib\n",
        "!pip install rasterio"
      ],
      "execution_count": 0,
      "outputs": []
    },
    {
      "cell_type": "markdown",
      "metadata": {
        "id": "m0ibVUXxakwE",
        "colab_type": "text"
      },
      "source": [
        "# 1b - Configuration of paramaters"
      ]
    },
    {
      "cell_type": "code",
      "metadata": {
        "id": "X2OikQjVG_ZV",
        "colab_type": "code",
        "cellView": "both",
        "colab": {}
      },
      "source": [
        "#Configures paramaters:\n",
        "import os\n",
        "user = '' #@param {type:\"string\"}\n",
        "password = '' #@param {type:\"string\"}\n",
        "startdate = \"\\\"20190916\\\"\" #@param {type:\"string\"}\n",
        "enddate = \"\\\"20190917\\\"\" #@param {type:\"string\"}\n",
        "\n"
      ],
      "execution_count": 0,
      "outputs": []
    },
    {
      "cell_type": "markdown",
      "metadata": {
        "id": "LjlRR5cTfrjM",
        "colab_type": "text"
      },
      "source": [
        "# 2 - Copernicus API Query"
      ]
    },
    {
      "cell_type": "code",
      "metadata": {
        "id": "i7ooC2zCYYvA",
        "colab_type": "code",
        "cellView": "code",
        "outputId": "b70c4819-9eea-4b2b-8825-2283979476c2",
        "colab": {
          "base_uri": "https://localhost:8080/",
          "height": 34
        }
      },
      "source": [
        "#Copernicus API Query:\n",
        "#@title Function Parameters:\n",
        "from sentinelsat.sentinel import SentinelAPI, read_geojson, geojson_to_wkt\n",
        "from datetime import date\n",
        "\n",
        "# connect to the API\n",
        "api = SentinelAPI(user, password, 'https://scihub.copernicus.eu/dhus')\n",
        "\n",
        "# search by polygon, time, and Hub query keywords\n",
        "footprint = geojson_to_wkt(read_geojson('/Testpoints.geojson'))\n",
        "products = api.query(footprint,\n",
        "                     date = (startdate,enddate),\n",
        "                     platformname = 'Sentinel-3',)\n",
        "products_df = api.to_dataframe(products)\n",
        "#print(list(products_df.columns))\n",
        "#print(products_df.filename.to_string(index=False))\n",
        "#api.download_all(products_df(0).index)\n",
        "\n"
      ],
      "execution_count": 11,
      "outputs": [
        {
          "output_type": "stream",
          "text": [
            "0cfbd201-b8c1-4023-ab4c-7d69b4b8db2b\n"
          ],
          "name": "stdout"
        }
      ]
    },
    {
      "cell_type": "markdown",
      "metadata": {
        "id": "G0jiWMxwsGqJ",
        "colab_type": "text"
      },
      "source": [
        "# 4 - Download tile:"
      ]
    },
    {
      "cell_type": "code",
      "metadata": {
        "id": "oWoaYmotsLXv",
        "colab_type": "code",
        "colab": {}
      },
      "source": [
        "tile = products_df.index[0]\n",
        "tilename = products_df.index[0].filename.to_string(index=False)\n",
        "print(tilename)\n",
        "#api.download(tile)"
      ],
      "execution_count": 0,
      "outputs": []
    },
    {
      "cell_type": "code",
      "metadata": {
        "id": "0I-VBiO1t6ir",
        "colab_type": "code",
        "colab": {}
      },
      "source": [
        "# importing required modules \n",
        "from zipfile import ZipFile\n",
        "  \n",
        "# opening the zip file in READ mode \n",
        "with ZipFile(\"/content/'imagery'/S3B_OL_1_ERR____20190916T071244_20190916T075656_20190916T092556_2652_030_049______LN1_O_NR_002.zip\", 'r') as zip: \n",
        "    # printing all the contents of the zip file \n",
        "    zip.printdir() \n",
        "    # extracting all the files \n",
        "    print('Extracting all the files now...') \n",
        "    zip.extractall() \n",
        "    print('Done!') "
      ],
      "execution_count": 0,
      "outputs": []
    },
    {
      "cell_type": "code",
      "metadata": {
        "id": "IsCewYS7wDZp",
        "colab_type": "code",
        "colab": {}
      },
      "source": [
        "from satpy.scene import Scene\n",
        "from satpy import find_files_and_readers\n",
        "from datetime import datetime\n",
        " \n",
        "files = find_files_and_readers(sensor='olci',\n",
        "                               base_dir=\"/content\",\n",
        "                               reader='olci_l1b')\n",
        " \n",
        "scn = Scene(filenames=files)\n",
        "scn.load(['true_color'])\n",
        "scn.save_dataset('true_color', filename='true_color_gnc_tutorial'+'.png')\n"
      ],
      "execution_count": 0,
      "outputs": []
    }
  ]
}